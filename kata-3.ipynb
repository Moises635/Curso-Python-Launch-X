{
 "cells": [
  {
   "cell_type": "markdown",
   "metadata": {},
   "source": [
    "## Asteroide a 49km\n",
    "if y else"
   ]
  },
  {
   "cell_type": "code",
   "execution_count": 1,
   "metadata": {},
   "outputs": [
    {
     "name": "stdout",
     "output_type": "stream",
     "text": [
      "CORRANNNNNNN\n"
     ]
    }
   ],
   "source": [
    "asteroide = 49\n",
    "\n",
    "if (asteroide)>25:\n",
    "    print(\"CORRANNNNNNN\")\n",
    "else:\n",
    "    print(\"No pasa nada... Aún\")\n",
    "    "
   ]
  },
  {
   "cell_type": "markdown",
   "metadata": {},
   "source": [
    "## Asteroide a 19km\n",
    "if, elif y else\n"
   ]
  },
  {
   "cell_type": "code",
   "execution_count": 4,
   "metadata": {},
   "outputs": [
    {
     "name": "stdout",
     "output_type": "stream",
     "text": [
      "Busquen un asteroide en el cielo!\n"
     ]
    }
   ],
   "source": [
    "asteroide = 19\n",
    "\n",
    "if (asteroide)>=20:\n",
    "    print(\"Miren al cielo, podrá verse un rayo de luz producida por un asteoride!\")\n",
    "elif (asteroide)<=19:\n",
    "    print(\"Busquen un asteroide en el cielo!\")\n",
    "else:\n",
    "    print(\"Un día normal.\")\n"
   ]
  },
  {
   "cell_type": "markdown",
   "metadata": {},
   "source": [
    "## Tamaño y velocidad del asteroide\n",
    "Operadores booleanos"
   ]
  },
  {
   "cell_type": "code",
   "execution_count": 33,
   "metadata": {},
   "outputs": [
    {
     "name": "stdout",
     "output_type": "stream",
     "text": [
      "Un día normal\n"
     ]
    }
   ],
   "source": [
    "tamañoAsteroide=19\n",
    "velocidadAsteroide=19\n",
    "\n",
    "if (velocidadAsteroide >25 and tamañoAsteroide >25):\n",
    "    print(\"Cuidado! Viene un asteroide rapido y muy grande!\")\n",
    "elif (velocidadAsteroide >25 or tamañoAsteroide >25):\n",
    "    print(\"Precaución, se aproxima un asteroide\")\n",
    "elif (velocidadAsteroide >=20  and tamañoAsteroide >=20 ) and (velocidadAsteroide<=24 and tamañoAsteroide <=24):\n",
    "    print(\"Miren al cielo, podrá verse un rayo de luz producida por un asteoride!\")\n",
    "else:\n",
    "    print(\"Un día normal.\")\n"
   ]
  }
 ],
 "metadata": {
  "interpreter": {
   "hash": "bd3171198c66f83d3c2d6251b066dbb73ab38fe4aa574e00448fc15d37e668d5"
  },
  "kernelspec": {
   "display_name": "Python 3.10.2 64-bit",
   "language": "python",
   "name": "python3"
  },
  "language_info": {
   "codemirror_mode": {
    "name": "ipython",
    "version": 3
   },
   "file_extension": ".py",
   "mimetype": "text/x-python",
   "name": "python",
   "nbconvert_exporter": "python",
   "pygments_lexer": "ipython3",
   "version": "3.10.2"
  },
  "orig_nbformat": 4
 },
 "nbformat": 4,
 "nbformat_minor": 2
}
